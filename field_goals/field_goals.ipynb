{
 "cells": [
  {
   "cell_type": "markdown",
   "metadata": {},
   "source": [
    "# Field Goals"
   ]
  },
  {
   "cell_type": "code",
   "execution_count": 1,
   "metadata": {},
   "outputs": [],
   "source": [
    "import pandas as pd\n",
    "import numpy as np\n",
    "import requests\n",
    "import matplotlib.pyplot as plt"
   ]
  },
  {
   "cell_type": "code",
   "execution_count": 2,
   "metadata": {},
   "outputs": [],
   "source": [
    "play_types = {\"field_goal_good\": 59,\n",
    "              \"field_goal_missed\": 60,\n",
    "              \"field_goal_blocked\": 18,\n",
    "              \"field_goal_missed_return\": 40,\n",
    "              \"field_goal_missed_return_td\": 41,\n",
    "              \"field_goal_blocked_return_td\": 38}"
   ]
  },
  {
   "cell_type": "code",
   "execution_count": 3,
   "metadata": {},
   "outputs": [],
   "source": [
    "seasons = np.arange(2000, 2020, 1) \n",
    "weeks = np.arange(1, 14, 1)"
   ]
  },
  {
   "cell_type": "code",
   "execution_count": 5,
   "metadata": {},
   "outputs": [],
   "source": [
    "season_list = []\n",
    "week_list = []\n",
    "kicks_json = []\n",
    "\n",
    "for season in seasons:\n",
    "    for week in weeks:\n",
    "        for key in play_types:\n",
    "            parameters = {\"year\": season, \"seasonType\": \"regular\", \"offense\": \"Washington\", \"playType\": play_types[key], \"week\": week}\n",
    "            response = requests.get(\"https://api.collegefootballdata.com/plays\", params=parameters)\n",
    "            kicks = response.json()\n",
    "            for kick in kicks:\n",
    "                season_list.append(season)\n",
    "                week_list.append(week)\n",
    "                kicks_json.append(kick)"
   ]
  },
  {
   "cell_type": "code",
   "execution_count": 6,
   "metadata": {},
   "outputs": [
    {
     "name": "stderr",
     "output_type": "stream",
     "text": [
      "C:\\Users\\wwtar\\anaconda3\\lib\\site-packages\\ipykernel_launcher.py:3: FutureWarning: pandas.io.json.json_normalize is deprecated, use pandas.json_normalize instead\n",
      "  This is separate from the ipykernel package so we can avoid doing imports until\n"
     ]
    },
    {
     "data": {
      "text/html": [
       "<div>\n",
       "<style scoped>\n",
       "    .dataframe tbody tr th:only-of-type {\n",
       "        vertical-align: middle;\n",
       "    }\n",
       "\n",
       "    .dataframe tbody tr th {\n",
       "        vertical-align: top;\n",
       "    }\n",
       "\n",
       "    .dataframe thead th {\n",
       "        text-align: right;\n",
       "    }\n",
       "</style>\n",
       "<table border=\"1\" class=\"dataframe\">\n",
       "  <thead>\n",
       "    <tr style=\"text-align: right;\">\n",
       "      <th></th>\n",
       "      <th>id</th>\n",
       "      <th>offense</th>\n",
       "      <th>offense_conference</th>\n",
       "      <th>defense</th>\n",
       "      <th>defense_conference</th>\n",
       "      <th>home</th>\n",
       "      <th>away</th>\n",
       "      <th>offense_score</th>\n",
       "      <th>defense_score</th>\n",
       "      <th>game_id</th>\n",
       "      <th>...</th>\n",
       "      <th>distance</th>\n",
       "      <th>scoring</th>\n",
       "      <th>yards_gained</th>\n",
       "      <th>play_type</th>\n",
       "      <th>play_text</th>\n",
       "      <th>ppa</th>\n",
       "      <th>clock.minutes</th>\n",
       "      <th>clock.seconds</th>\n",
       "      <th>season</th>\n",
       "      <th>week</th>\n",
       "    </tr>\n",
       "  </thead>\n",
       "  <tbody>\n",
       "    <tr>\n",
       "      <th>0</th>\n",
       "      <td>2324201943201</td>\n",
       "      <td>Washington</td>\n",
       "      <td>Pac-10</td>\n",
       "      <td>Ohio State</td>\n",
       "      <td>Big Ten</td>\n",
       "      <td>Ohio State</td>\n",
       "      <td>Washington</td>\n",
       "      <td>3</td>\n",
       "      <td>28</td>\n",
       "      <td>232420194</td>\n",
       "      <td>...</td>\n",
       "      <td>7</td>\n",
       "      <td>False</td>\n",
       "      <td>0</td>\n",
       "      <td>Blocked Field Goal</td>\n",
       "      <td>Huskies 35 yard field goal attempt blocked, re...</td>\n",
       "      <td>None</td>\n",
       "      <td>6</td>\n",
       "      <td>58</td>\n",
       "      <td>2003</td>\n",
       "      <td>2</td>\n",
       "    </tr>\n",
       "    <tr>\n",
       "      <th>1</th>\n",
       "      <td>2328402640901</td>\n",
       "      <td>Washington</td>\n",
       "      <td>Pac-10</td>\n",
       "      <td>Nevada</td>\n",
       "      <td>Western Athletic</td>\n",
       "      <td>Washington</td>\n",
       "      <td>Nevada</td>\n",
       "      <td>0</td>\n",
       "      <td>14</td>\n",
       "      <td>232840264</td>\n",
       "      <td>...</td>\n",
       "      <td>11</td>\n",
       "      <td>False</td>\n",
       "      <td>0</td>\n",
       "      <td>Blocked Field Goal</td>\n",
       "      <td>Huskies 37 yard field goal attempt blocked, re...</td>\n",
       "      <td>None</td>\n",
       "      <td>14</td>\n",
       "      <td>40</td>\n",
       "      <td>2003</td>\n",
       "      <td>8</td>\n",
       "    </tr>\n",
       "    <tr>\n",
       "      <th>2</th>\n",
       "      <td>2328402641401</td>\n",
       "      <td>Washington</td>\n",
       "      <td>Pac-10</td>\n",
       "      <td>Nevada</td>\n",
       "      <td>Western Athletic</td>\n",
       "      <td>Washington</td>\n",
       "      <td>Nevada</td>\n",
       "      <td>0</td>\n",
       "      <td>14</td>\n",
       "      <td>232840264</td>\n",
       "      <td>...</td>\n",
       "      <td>8</td>\n",
       "      <td>False</td>\n",
       "      <td>0</td>\n",
       "      <td>Blocked Field Goal</td>\n",
       "      <td>Huskies 38 yard field goal attempt blocked, re...</td>\n",
       "      <td>None</td>\n",
       "      <td>9</td>\n",
       "      <td>0</td>\n",
       "      <td>2003</td>\n",
       "      <td>8</td>\n",
       "    </tr>\n",
       "    <tr>\n",
       "      <th>3</th>\n",
       "      <td>2328402642209</td>\n",
       "      <td>Washington</td>\n",
       "      <td>Pac-10</td>\n",
       "      <td>Nevada</td>\n",
       "      <td>Western Athletic</td>\n",
       "      <td>Washington</td>\n",
       "      <td>Nevada</td>\n",
       "      <td>7</td>\n",
       "      <td>14</td>\n",
       "      <td>232840264</td>\n",
       "      <td>...</td>\n",
       "      <td>6</td>\n",
       "      <td>False</td>\n",
       "      <td>0</td>\n",
       "      <td>Blocked Field Goal</td>\n",
       "      <td>Huskies 43 yard field goal attempt blocked, re...</td>\n",
       "      <td>None</td>\n",
       "      <td>11</td>\n",
       "      <td>0</td>\n",
       "      <td>2003</td>\n",
       "      <td>8</td>\n",
       "    </tr>\n",
       "    <tr>\n",
       "      <th>4</th>\n",
       "      <td>252462005025</td>\n",
       "      <td>Washington</td>\n",
       "      <td>Pac-10</td>\n",
       "      <td>Air Force</td>\n",
       "      <td>Mountain West</td>\n",
       "      <td>Air Force</td>\n",
       "      <td>Washington</td>\n",
       "      <td>3</td>\n",
       "      <td>0</td>\n",
       "      <td>252462005</td>\n",
       "      <td>...</td>\n",
       "      <td>4</td>\n",
       "      <td>False</td>\n",
       "      <td>0</td>\n",
       "      <td>Field Goal Good</td>\n",
       "      <td>Evan Knudson field goal attempt from 40 GOOD, ...</td>\n",
       "      <td>-0.1724792983509733</td>\n",
       "      <td>5</td>\n",
       "      <td>39</td>\n",
       "      <td>2005</td>\n",
       "      <td>1</td>\n",
       "    </tr>\n",
       "  </tbody>\n",
       "</table>\n",
       "<p>5 rows × 29 columns</p>\n",
       "</div>"
      ],
      "text/plain": [
       "              id     offense offense_conference     defense  \\\n",
       "0  2324201943201  Washington             Pac-10  Ohio State   \n",
       "1  2328402640901  Washington             Pac-10      Nevada   \n",
       "2  2328402641401  Washington             Pac-10      Nevada   \n",
       "3  2328402642209  Washington             Pac-10      Nevada   \n",
       "4   252462005025  Washington             Pac-10   Air Force   \n",
       "\n",
       "  defense_conference        home        away  offense_score  defense_score  \\\n",
       "0            Big Ten  Ohio State  Washington              3             28   \n",
       "1   Western Athletic  Washington      Nevada              0             14   \n",
       "2   Western Athletic  Washington      Nevada              0             14   \n",
       "3   Western Athletic  Washington      Nevada              7             14   \n",
       "4      Mountain West   Air Force  Washington              3              0   \n",
       "\n",
       "     game_id  ... distance  scoring  yards_gained           play_type  \\\n",
       "0  232420194  ...        7    False             0  Blocked Field Goal   \n",
       "1  232840264  ...       11    False             0  Blocked Field Goal   \n",
       "2  232840264  ...        8    False             0  Blocked Field Goal   \n",
       "3  232840264  ...        6    False             0  Blocked Field Goal   \n",
       "4  252462005  ...        4    False             0     Field Goal Good   \n",
       "\n",
       "                                           play_text                  ppa  \\\n",
       "0  Huskies 35 yard field goal attempt blocked, re...                 None   \n",
       "1  Huskies 37 yard field goal attempt blocked, re...                 None   \n",
       "2  Huskies 38 yard field goal attempt blocked, re...                 None   \n",
       "3  Huskies 43 yard field goal attempt blocked, re...                 None   \n",
       "4  Evan Knudson field goal attempt from 40 GOOD, ...  -0.1724792983509733   \n",
       "\n",
       "   clock.minutes  clock.seconds  season  week  \n",
       "0              6             58    2003     2  \n",
       "1             14             40    2003     8  \n",
       "2              9              0    2003     8  \n",
       "3             11              0    2003     8  \n",
       "4              5             39    2005     1  \n",
       "\n",
       "[5 rows x 29 columns]"
      ]
     },
     "execution_count": 6,
     "metadata": {},
     "output_type": "execute_result"
    }
   ],
   "source": [
    "from pandas.io.json import json_normalize\n",
    "\n",
    "kick_df = json_normalize(kicks_json)\n",
    "kick_df[\"season\"] = season_list\n",
    "kick_df[\"week\"] = week_list\n",
    "kick_df.head()"
   ]
  },
  {
   "cell_type": "code",
   "execution_count": 7,
   "metadata": {},
   "outputs": [
    {
     "data": {
      "text/plain": [
       "(257, 29)"
      ]
     },
     "execution_count": 7,
     "metadata": {},
     "output_type": "execute_result"
    }
   ],
   "source": [
    "kick_df.shape"
   ]
  },
  {
   "cell_type": "code",
   "execution_count": 8,
   "metadata": {},
   "outputs": [
    {
     "data": {
      "text/plain": [
       "array(['Blocked Field Goal', 'Field Goal Good', 'Field Goal Missed'],\n",
       "      dtype=object)"
      ]
     },
     "execution_count": 8,
     "metadata": {},
     "output_type": "execute_result"
    }
   ],
   "source": [
    "kick_df.play_type.unique()"
   ]
  },
  {
   "cell_type": "code",
   "execution_count": 9,
   "metadata": {},
   "outputs": [],
   "source": [
    "colors = {\"Blocked Field Goal\": \"black\",\n",
    "          \"Field Goal Good\": \"green\",\n",
    "          \"Field Goal Missed\": \"red\"}"
   ]
  },
  {
   "cell_type": "code",
   "execution_count": 91,
   "metadata": {},
   "outputs": [],
   "source": [
    "markers = {\"Blocked Field Goal\": \"s\",\n",
    "          \"Field Goal Good\": \"o\",\n",
    "          \"Field Goal Missed\": \"X\"}"
   ]
  },
  {
   "cell_type": "code",
   "execution_count": 92,
   "metadata": {},
   "outputs": [],
   "source": [
    "kick_df[\"color\"] = kick_df[\"play_type\"].map(colors)\n",
    "kick_df[\"marker\"] = kick_df[\"play_type\"].map(markers)"
   ]
  },
  {
   "cell_type": "code",
   "execution_count": 93,
   "metadata": {},
   "outputs": [],
   "source": [
    "kick_df = kick_df[kick_df[\"season\"] >= 2005]"
   ]
  },
  {
   "cell_type": "code",
   "execution_count": 94,
   "metadata": {},
   "outputs": [
    {
     "data": {
      "image/png": "[encoded data removed]",
      "text/plain": [
       "<Figure size 720x432 with 1 Axes>"
      ]
     },
     "metadata": {
      "needs_background": "light"
     },
     "output_type": "display_data"
    }
   ],
   "source": [
    "plt.figure(figsize=(10,6))\n",
    "plt.scatter(kick_df.season, kick_df.distance, c=kick_df.color, alpha=0.6)\n",
    "plt.show()"
   ]
  },
  {
   "cell_type": "code",
   "execution_count": 140,
   "metadata": {},
   "outputs": [
    {
     "data": {
      "image/png": "[encoded data removed]",
      "text/plain": [
       "<Figure size 720x432 with 1 Axes>"
      ]
     },
     "metadata": {
      "needs_background": "light"
     },
     "output_type": "display_data"
    }
   ],
   "source": [
    "plt.figure(figsize=(10,6))\n",
    "plt.scatter(kick_df.week, kick_df.distance, c=kick_df.color, alpha=0.6, s=60)\n",
    "plt.show()"
   ]
  },
  {
   "cell_type": "markdown",
   "metadata": {},
   "source": [
    "https://eli.thegreenplace.net/2016/drawing-animated-gifs-with-matplotlib/"
   ]
  },
  {
   "cell_type": "code",
   "execution_count": 96,
   "metadata": {},
   "outputs": [
    {
     "name": "stdout",
     "output_type": "stream",
     "text": [
      "fig size: 72.0 DPI, size in inches [10.  6.]\n"
     ]
    },
    {
     "data": {
      "image/png": "[encoded data removed]",
      "text/plain": [
       "<Figure size 720x432 with 1 Axes>"
      ]
     },
     "metadata": {
      "needs_background": "light"
     },
     "output_type": "display_data"
    }
   ],
   "source": [
    "from matplotlib.animation import FuncAnimation\n",
    "import sys\n",
    "\n",
    "fig, ax = plt.subplots(figsize=(10,6))\n",
    "fig.set_tight_layout(True)\n",
    "\n",
    "# Query the figure's on-screen size and DPI. Note that when saving the figure to\n",
    "# a file, we need to provide a DPI for that separately.\n",
    "print('fig size: {0} DPI, size in inches {1}'.format(\n",
    "    fig.get_dpi(), fig.get_size_inches()))"
   ]
  },
  {
   "cell_type": "code",
   "execution_count": 97,
   "metadata": {},
   "outputs": [],
   "source": [
    "# Plot a scatter that persists (isn't redrawn) and the initial line.\n",
    "x = np.arange(0, 20, 0.1)\n",
    "#ax.scatter(x, x + np.random.normal(0, 3.0, len(x)))\n",
    "#line, = ax.plot(x, x - 5, 'r-', linewidth=2)"
   ]
  },
  {
   "cell_type": "code",
   "execution_count": 98,
   "metadata": {},
   "outputs": [
    {
     "data": {
      "text/plain": [
       "2012"
      ]
     },
     "execution_count": 98,
     "metadata": {},
     "output_type": "execute_result"
    }
   ],
   "source": [
    "seasons = list(kick_df.season.unique())\n",
    "seasons[6]"
   ]
  },
  {
   "cell_type": "code",
   "execution_count": 73,
   "metadata": {},
   "outputs": [
    {
     "data": {
      "text/plain": [
       "array([ 1,  2,  3,  4,  5,  6,  7,  8,  9, 10, 11, 12])"
      ]
     },
     "execution_count": 73,
     "metadata": {},
     "output_type": "execute_result"
    }
   ],
   "source": [
    "weeks = np.arange(1, 13, 1)"
   ]
  },
  {
   "cell_type": "code",
   "execution_count": 152,
   "metadata": {},
   "outputs": [],
   "source": [
    "import matplotlib.lines as mlines"
   ]
  },
  {
   "cell_type": "code",
   "execution_count": 197,
   "metadata": {},
   "outputs": [],
   "source": [
    "block = mlines.Line2D([], [], color=\"black\", marker=\"s\", linestyle=\"None\", markersize=10)\n",
    "good = mlines.Line2D([], [], color=\"green\", marker=\"o\", linestyle=\"None\", markersize=10)\n",
    "missed = mlines.Line2D([], [], color=\"red\", marker=\"X\", linestyle=\"None\", markersize=10)"
   ]
  },
  {
   "cell_type": "code",
   "execution_count": 232,
   "metadata": {},
   "outputs": [],
   "source": [
    "\n",
    "def update(i):\n",
    "    curr_season = seasons[i]\n",
    "    curr_data = kick_df[kick_df[\"season\"] == curr_season]\n",
    "    year_label = \"{0} Season\".format(curr_season)\n",
    "    ax.clear()\n",
    "    markers = curr_data.marker.unique()\n",
    "    for marker in markers:\n",
    "        marker_data = curr_data[curr_data[\"marker\"] == marker]\n",
    "        ax.scatter(marker_data.week, marker_data.distance, c=marker_data.color, alpha=0.6, marker=marker, s=200)\n",
    "    \n",
    "    ax.tick_params(labelsize=14)\n",
    "    ax.set_xticks(weeks)\n",
    "    ax.set_xlim(0.5, 12.5)\n",
    "    ax.set_ylim(-0.5, 30)\n",
    "    ax.set_xlabel(year_label, fontsize=14)\n",
    "    ax.set_ylabel(\"Yard Line\", fontsize=14)\n",
    "    ax.legend([good, missed, block], [\"Good\", \"Missed\", \"Blocked\"], bbox_to_anchor=(0.18, 1), fontsize=14)\n",
    "    return line, ax"
   ]
  },
  {
   "cell_type": "code",
   "execution_count": 233,
   "metadata": {
    "scrolled": false
   },
   "outputs": [
    {
     "name": "stderr",
     "output_type": "stream",
     "text": [
      "MovieWriter imagemagick unavailable; trying to use <class 'matplotlib.animation.PillowWriter'> instead.\n"
     ]
    }
   ],
   "source": [
    "anim = FuncAnimation(fig, update, frames=np.arange(0, len(seasons)), interval=1000)\n",
    "anim.save(\"field_goals.gif\", dpi=80, writer='imagemagick')"
   ]
  },
  {
   "cell_type": "code",
   "execution_count": null,
   "metadata": {},
   "outputs": [],
   "source": []
  }
 ],
 "metadata": {
  "kernelspec": {
   "display_name": "Python 3",
   "language": "python",
   "name": "python3"
  },
  "language_info": {
   "codemirror_mode": {
    "name": "ipython",
    "version": 3
   },
   "file_extension": ".py",
   "mimetype": "text/x-python",
   "name": "python",
   "nbconvert_exporter": "python",
   "pygments_lexer": "ipython3",
   "version": "3.7.6"
  }
 },
 "nbformat": 4,
 "nbformat_minor": 4
}
