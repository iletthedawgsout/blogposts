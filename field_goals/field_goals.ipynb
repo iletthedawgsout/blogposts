{
 "cells": [
  {
   "cell_type": "markdown",
   "metadata": {},
   "source": [
    "# Field Goals"
   ]
  },
  {
   "cell_type": "code",
   "execution_count": null,
   "metadata": {},
   "outputs": [],
   "source": [
    "import pandas as pd\n",
    "import numpy as np\n",
    "import requests\n",
    "import matplotlib.pyplot as plt"
   ]
  },
  {
   "cell_type": "code",
   "execution_count": null,
   "metadata": {},
   "outputs": [],
   "source": [
    "play_types = {\"field_goal_good\": 59,\n",
    "              \"field_goal_missed\": 60,\n",
    "              \"field_goal_blocked\": 18,\n",
    "              \"field_goal_missed_return\": 40,\n",
    "              \"field_goal_missed_return_td\": 41,\n",
    "              \"field_goal_blocked_return_td\": 38}"
   ]
  },
  {
   "cell_type": "code",
   "execution_count": null,
   "metadata": {},
   "outputs": [],
   "source": [
    "seasons = np.arange(2000, 2020, 1) \n",
    "weeks = np.arange(1, 14, 1)"
   ]
  },
  {
   "cell_type": "code",
   "execution_count": null,
   "metadata": {},
   "outputs": [],
   "source": [
    "season_list = []\n",
    "week_list = []\n",
    "kicks_json = []\n",
    "\n",
    "for season in seasons:\n",
    "    for week in weeks:\n",
    "        for key in play_types:\n",
    "            parameters = {\"year\": season, \"seasonType\": \"regular\", \"offense\": \"Washington\", \"playType\": play_types[key], \"week\": week}\n",
    "            response = requests.get(\"https://api.collegefootballdata.com/plays\", params=parameters)\n",
    "            kicks = response.json()\n",
    "            for kick in kicks:\n",
    "                season_list.append(season)\n",
    "                week_list.append(week)\n",
    "                kicks_json.append(kick)"
   ]
  },
  {
   "cell_type": "code",
   "execution_count": null,
   "metadata": {},
   "outputs": [],
   "source": [
    "from pandas.io.json import json_normalize\n",
    "\n",
    "kick_df = json_normalize(kicks_json)\n",
    "kick_df[\"season\"] = season_list\n",
    "kick_df[\"week\"] = week_list\n",
    "kick_df.head()"
   ]
  },
  {
   "cell_type": "code",
   "execution_count": null,
   "metadata": {},
   "outputs": [],
   "source": [
    "kick_df.shape"
   ]
  },
  {
   "cell_type": "code",
   "execution_count": null,
   "metadata": {},
   "outputs": [],
   "source": [
    "kick_df.play_type.unique()"
   ]
  },
  {
   "cell_type": "code",
   "execution_count": null,
   "metadata": {},
   "outputs": [],
   "source": [
    "colors = {\"Blocked Field Goal\": \"black\",\n",
    "          \"Field Goal Good\": \"green\",\n",
    "          \"Field Goal Missed\": \"red\"}"
   ]
  },
  {
   "cell_type": "code",
   "execution_count": null,
   "metadata": {},
   "outputs": [],
   "source": [
    "kick_df[\"color\"] = kick_df[\"play_type\"].map(colors)"
   ]
  },
  {
   "cell_type": "code",
   "execution_count": null,
   "metadata": {},
   "outputs": [],
   "source": [
    "plt.scatter(kick_df.year, kick_df.distance, s = size_map, c=kick_df.color)\n",
    "plt.show()"
   ]
  },
  {
   "cell_type": "code",
   "execution_count": null,
   "metadata": {},
   "outputs": [],
   "source": []
  }
 ],
 "metadata": {
  "kernelspec": {
   "display_name": "Python 3",
   "language": "python",
   "name": "python3"
  },
  "language_info": {
   "codemirror_mode": {
    "name": "ipython",
    "version": 3
   },
   "file_extension": ".py",
   "mimetype": "text/x-python",
   "name": "python",
   "nbconvert_exporter": "python",
   "pygments_lexer": "ipython3",
   "version": "3.7.6"
  }
 },
 "nbformat": 4,
 "nbformat_minor": 4
}
