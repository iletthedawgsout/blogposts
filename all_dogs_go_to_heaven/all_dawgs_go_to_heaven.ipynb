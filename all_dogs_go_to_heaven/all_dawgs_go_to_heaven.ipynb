{
 "cells": [
  {
   "cell_type": "markdown",
   "metadata": {},
   "source": [
    "# All dawgs go to heaven, but only some go to national championships\n",
    "\n",
    "This notebook walks through my analysis of the live mascots used at the University of Washington and their winning percentages for football across their career.\n",
    "\n",
    "The data used in this analysis comes from:  \n",
    "* [The Seattle Times](https://www.seattletimes.com/sports/uw-husky-football/woo-woos-for-a-weary-world-uws-live-mascot-dubs-ii-spreads-cute-dog-content-to-the-masses/)  \n",
    "* [Go Huskies](https://gohuskies.com/sports/2013/4/18/208229209.aspx)  \n",
    "* [College Football Data API](https://api.collegefootballdata.com/api/docs/?url=/api-docs.json)"
   ]
  },
  {
   "cell_type": "markdown",
   "metadata": {},
   "source": [
    "-------------\n",
    "###  Setup"
   ]
  },
  {
   "cell_type": "code",
   "execution_count": 1,
   "metadata": {},
   "outputs": [],
   "source": [
    "import pandas as pd\n",
    "import requests\n",
    "import matplotlib.pyplot as plt\n",
    "from matplotlib import rcParams\n",
    "import matplotlib.ticker as mtick\n",
    "rcParams.update({'figure.autolayout': True})"
   ]
  },
  {
   "cell_type": "markdown",
   "metadata": {},
   "source": [
    "Read in data about mascot history:"
   ]
  },
  {
   "cell_type": "code",
   "execution_count": 2,
   "metadata": {},
   "outputs": [
    {
     "data": {
      "text/html": [
       "<div>\n",
       "<style scoped>\n",
       "    .dataframe tbody tr th:only-of-type {\n",
       "        vertical-align: middle;\n",
       "    }\n",
       "\n",
       "    .dataframe tbody tr th {\n",
       "        vertical-align: top;\n",
       "    }\n",
       "\n",
       "    .dataframe thead th {\n",
       "        text-align: right;\n",
       "    }\n",
       "</style>\n",
       "<table border=\"1\" class=\"dataframe\">\n",
       "  <thead>\n",
       "    <tr style=\"text-align: right;\">\n",
       "      <th></th>\n",
       "      <th>mascot_name</th>\n",
       "      <th>start_date</th>\n",
       "      <th>end_date</th>\n",
       "    </tr>\n",
       "  </thead>\n",
       "  <tbody>\n",
       "    <tr>\n",
       "      <th>0</th>\n",
       "      <td>Frosty I</td>\n",
       "      <td>1922</td>\n",
       "      <td>1929</td>\n",
       "    </tr>\n",
       "    <tr>\n",
       "      <th>1</th>\n",
       "      <td>Frosty II</td>\n",
       "      <td>1930</td>\n",
       "      <td>1936</td>\n",
       "    </tr>\n",
       "    <tr>\n",
       "      <th>2</th>\n",
       "      <td>Wasky</td>\n",
       "      <td>1946</td>\n",
       "      <td>1946</td>\n",
       "    </tr>\n",
       "    <tr>\n",
       "      <th>3</th>\n",
       "      <td>Wasky II</td>\n",
       "      <td>1947</td>\n",
       "      <td>1953</td>\n",
       "    </tr>\n",
       "    <tr>\n",
       "      <th>4</th>\n",
       "      <td>Ski</td>\n",
       "      <td>1954</td>\n",
       "      <td>1957</td>\n",
       "    </tr>\n",
       "  </tbody>\n",
       "</table>\n",
       "</div>"
      ],
      "text/plain": [
       "  mascot_name  start_date  end_date\n",
       "0    Frosty I        1922      1929\n",
       "1   Frosty II        1930      1936\n",
       "2       Wasky        1946      1946\n",
       "3    Wasky II        1947      1953\n",
       "4         Ski        1954      1957"
      ]
     },
     "execution_count": 2,
     "metadata": {},
     "output_type": "execute_result"
    }
   ],
   "source": [
    "mascot_data = pd.read_csv(\"mascot_data.csv\")\n",
    "mascot_data.head()"
   ]
  },
  {
   "cell_type": "markdown",
   "metadata": {},
   "source": [
    "---------------\n",
    "### Data preparation"
   ]
  },
  {
   "cell_type": "code",
   "execution_count": 3,
   "metadata": {},
   "outputs": [
    {
     "data": {
      "text/html": [
       "<div>\n",
       "<style scoped>\n",
       "    .dataframe tbody tr th:only-of-type {\n",
       "        vertical-align: middle;\n",
       "    }\n",
       "\n",
       "    .dataframe tbody tr th {\n",
       "        vertical-align: top;\n",
       "    }\n",
       "\n",
       "    .dataframe thead th {\n",
       "        text-align: right;\n",
       "    }\n",
       "</style>\n",
       "<table border=\"1\" class=\"dataframe\">\n",
       "  <thead>\n",
       "    <tr style=\"text-align: right;\">\n",
       "      <th></th>\n",
       "      <th>mascot_name</th>\n",
       "      <th>start_date</th>\n",
       "      <th>end_date</th>\n",
       "      <th>seasons</th>\n",
       "    </tr>\n",
       "  </thead>\n",
       "  <tbody>\n",
       "    <tr>\n",
       "      <th>0</th>\n",
       "      <td>Frosty I</td>\n",
       "      <td>1922</td>\n",
       "      <td>1929</td>\n",
       "      <td>7</td>\n",
       "    </tr>\n",
       "    <tr>\n",
       "      <th>1</th>\n",
       "      <td>Frosty II</td>\n",
       "      <td>1930</td>\n",
       "      <td>1936</td>\n",
       "      <td>6</td>\n",
       "    </tr>\n",
       "    <tr>\n",
       "      <th>2</th>\n",
       "      <td>Wasky</td>\n",
       "      <td>1946</td>\n",
       "      <td>1946</td>\n",
       "      <td>0</td>\n",
       "    </tr>\n",
       "    <tr>\n",
       "      <th>3</th>\n",
       "      <td>Wasky II</td>\n",
       "      <td>1947</td>\n",
       "      <td>1953</td>\n",
       "      <td>6</td>\n",
       "    </tr>\n",
       "    <tr>\n",
       "      <th>4</th>\n",
       "      <td>Ski</td>\n",
       "      <td>1954</td>\n",
       "      <td>1957</td>\n",
       "      <td>3</td>\n",
       "    </tr>\n",
       "  </tbody>\n",
       "</table>\n",
       "</div>"
      ],
      "text/plain": [
       "  mascot_name  start_date  end_date  seasons\n",
       "0    Frosty I        1922      1929        7\n",
       "1   Frosty II        1930      1936        6\n",
       "2       Wasky        1946      1946        0\n",
       "3    Wasky II        1947      1953        6\n",
       "4         Ski        1954      1957        3"
      ]
     },
     "execution_count": 3,
     "metadata": {},
     "output_type": "execute_result"
    }
   ],
   "source": [
    "mascot_data[\"seasons\"] = mascot_data[\"end_date\"] - mascot_data[\"start_date\"]\n",
    "mascot_data.head()"
   ]
  },
  {
   "cell_type": "markdown",
   "metadata": {},
   "source": [
    "I have to manually code the national championships because some sources claim the '91 title was shared (the reason you'll never see any Dawgs cheering for Miami...)"
   ]
  },
  {
   "cell_type": "code",
   "execution_count": 4,
   "metadata": {},
   "outputs": [],
   "source": [
    "national_championships = [1960, 1984, 1990, 1991]"
   ]
  },
  {
   "cell_type": "markdown",
   "metadata": {},
   "source": []
  },
  {
   "cell_type": "code",
   "execution_count": 5,
   "metadata": {},
   "outputs": [
    {
     "data": {
      "text/html": [
       "<div>\n",
       "<style scoped>\n",
       "    .dataframe tbody tr th:only-of-type {\n",
       "        vertical-align: middle;\n",
       "    }\n",
       "\n",
       "    .dataframe tbody tr th {\n",
       "        vertical-align: top;\n",
       "    }\n",
       "\n",
       "    .dataframe thead th {\n",
       "        text-align: right;\n",
       "    }\n",
       "</style>\n",
       "<table border=\"1\" class=\"dataframe\">\n",
       "  <thead>\n",
       "    <tr style=\"text-align: right;\">\n",
       "      <th></th>\n",
       "      <th>mascot_name</th>\n",
       "      <th>start_date</th>\n",
       "      <th>end_date</th>\n",
       "      <th>seasons</th>\n",
       "      <th>win_percentages</th>\n",
       "      <th>colors</th>\n",
       "    </tr>\n",
       "  </thead>\n",
       "  <tbody>\n",
       "    <tr>\n",
       "      <th>0</th>\n",
       "      <td>Frosty I</td>\n",
       "      <td>1922</td>\n",
       "      <td>1929</td>\n",
       "      <td>7</td>\n",
       "      <td>0.740741</td>\n",
       "      <td>#363C74</td>\n",
       "    </tr>\n",
       "    <tr>\n",
       "      <th>1</th>\n",
       "      <td>Frosty II</td>\n",
       "      <td>1930</td>\n",
       "      <td>1936</td>\n",
       "      <td>6</td>\n",
       "      <td>0.629032</td>\n",
       "      <td>#363C74</td>\n",
       "    </tr>\n",
       "    <tr>\n",
       "      <th>2</th>\n",
       "      <td>Wasky</td>\n",
       "      <td>1946</td>\n",
       "      <td>1946</td>\n",
       "      <td>0</td>\n",
       "      <td>0.555556</td>\n",
       "      <td>#363C74</td>\n",
       "    </tr>\n",
       "    <tr>\n",
       "      <th>3</th>\n",
       "      <td>Wasky II</td>\n",
       "      <td>1947</td>\n",
       "      <td>1953</td>\n",
       "      <td>6</td>\n",
       "      <td>0.420290</td>\n",
       "      <td>#363C74</td>\n",
       "    </tr>\n",
       "    <tr>\n",
       "      <th>4</th>\n",
       "      <td>Ski</td>\n",
       "      <td>1954</td>\n",
       "      <td>1957</td>\n",
       "      <td>3</td>\n",
       "      <td>0.375000</td>\n",
       "      <td>#363C74</td>\n",
       "    </tr>\n",
       "  </tbody>\n",
       "</table>\n",
       "</div>"
      ],
      "text/plain": [
       "  mascot_name  start_date  end_date  seasons  win_percentages   colors\n",
       "0    Frosty I        1922      1929        7         0.740741  #363C74\n",
       "1   Frosty II        1930      1936        6         0.629032  #363C74\n",
       "2       Wasky        1946      1946        0         0.555556  #363C74\n",
       "3    Wasky II        1947      1953        6         0.420290  #363C74\n",
       "4         Ski        1954      1957        3         0.375000  #363C74"
      ]
     },
     "execution_count": 5,
     "metadata": {},
     "output_type": "execute_result"
    }
   ],
   "source": [
    "win_pcts = []\n",
    "total_wins = []\n",
    "colors = []\n",
    "\n",
    "for index, row in mascot_data.iterrows(): \n",
    "    wins = 0\n",
    "    total_games = 0\n",
    "    seasons = list(range(row[\"start_date\"], row[\"end_date\"] + 1))\n",
    "    color = \"#363C74\"\n",
    "    for season in seasons:\n",
    "        if season in national_championships:\n",
    "            color = \"#E8D3A2\"\n",
    "        parameters = {\"year\": season,\"seasonType\": \"regular\", \"team\": \"Washington\"}\n",
    "        response = requests.get(\"https://api.collegefootballdata.com/games\", params=parameters)\n",
    "        games = response.json()\n",
    "        for game in games:\n",
    "            total_games += 1\n",
    "            if (game[\"home_team\"] == \"Washington\" and game[\"home_points\"] > game[\"away_points\"]) or (game[\"away_team\"] == \"Washington\" and game[\"away_points\"] > game[\"home_points\"]):\n",
    "                wins += 1\n",
    "    win_pcts.append(wins / total_games)\n",
    "    colors.append(color)\n",
    "    total_wins.append(wins)\n",
    "    \n",
    "mascot_data[\"win_percentages\"] = win_pcts\n",
    "mascot_data[\"colors\"] = colors\n",
    "mascot_data.head()"
   ]
  },
  {
   "cell_type": "code",
   "execution_count": 7,
   "metadata": {},
   "outputs": [],
   "source": [
    "mascot_data.loc[mascot_data[\"mascot_name\"] == \"Dubs II\", \"end_date\"] = \"current\"\n",
    "mascot_data[\"labels\"] = mascot_data[\"mascot_name\"] + \"\\n (\" + mascot_data[\"start_date\"].apply(str) + \"-\" + mascot_data[\"end_date\"].apply(str) + \")\""
   ]
  },
  {
   "cell_type": "code",
   "execution_count": 11,
   "metadata": {},
   "outputs": [],
   "source": [
    "mascot_data[\"win_percentages\"] = mascot_data[\"win_percentages\"] * 100.0"
   ]
  },
  {
   "cell_type": "markdown",
   "metadata": {},
   "source": [
    "----------\n",
    "### Data visualization"
   ]
  },
  {
   "cell_type": "code",
   "execution_count": 12,
   "metadata": {},
   "outputs": [
    {
     "data": {
      "image/png": "[encoded data removed]",
      "text/plain": [
       "<Figure size 1008x576 with 1 Axes>"
      ]
     },
     "metadata": {
      "needs_background": "light"
     },
     "output_type": "display_data"
    }
   ],
   "source": [
    "fig = plt.figure(figsize=(14,8))\n",
    "ax = fig.add_subplot(1,1,1)\n",
    "plt.bar(x=mascot_data.index, height=mascot_data.win_percentages, color=mascot_data.colors)\n",
    "plt.xticks(mascot_data.index, mascot_data.labels, fontsize=14)\n",
    "plt.title(\"Win Percentages for UW Live Mascots\", fontsize=20)\n",
    "plt.xticks(rotation=90)\n",
    "plt.ylabel(\"Win Percentage\", fontsize=14)\n",
    "\n",
    "fmt = '%.f%%' # Format you want the ticks, e.g. '40%'\n",
    "yticks = mtick.FormatStrFormatter(fmt)\n",
    "ax.yaxis.set_major_formatter(yticks)\n",
    "\n",
    "plt.savefig(\"all_dawgs_go_to_heaven.jpg\")\n",
    "plt.show()"
   ]
  }
 ],
 "metadata": {
  "kernelspec": {
   "display_name": "Python 3",
   "language": "python",
   "name": "python3"
  },
  "language_info": {
   "codemirror_mode": {
    "name": "ipython",
    "version": 3
   },
   "file_extension": ".py",
   "mimetype": "text/x-python",
   "name": "python",
   "nbconvert_exporter": "python",
   "pygments_lexer": "ipython3",
   "version": "3.7.6"
  }
 },
 "nbformat": 4,
 "nbformat_minor": 4
}
